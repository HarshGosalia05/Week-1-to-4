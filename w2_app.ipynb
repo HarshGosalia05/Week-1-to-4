{
 "cells": [
  {
   "cell_type": "code",
   "execution_count": 1,
   "id": "6a551c03",
   "metadata": {},
   "outputs": [],
   "source": [
    "import pandas as pd\n",
    "import numpy as np\n",
    "from sklearn.model_selection import train_test_split\n",
    "from sklearn.preprocessing import LabelEncoder, StandardScaler\n",
    "from sklearn.metrics import accuracy_score, classification_report, confusion_matrix\n",
    "from sklearn.ensemble import RandomForestClassifier\n",
    "import matplotlib.pyplot as plt"
   ]
  },
  {
   "cell_type": "code",
   "execution_count": 2,
   "id": "6284ec2c",
   "metadata": {},
   "outputs": [
    {
     "name": "stdout",
     "output_type": "stream",
     "text": [
      "Dataset Shape: (50000, 10)\n"
     ]
    },
    {
     "name": "stderr",
     "output_type": "stream",
     "text": [
      "<>:1: SyntaxWarning: invalid escape sequence '\\I'\n",
      "<>:1: SyntaxWarning: invalid escape sequence '\\I'\n",
      "C:\\Users\\harsh\\AppData\\Local\\Temp\\ipykernel_11064\\14884495.py:1: SyntaxWarning: invalid escape sequence '\\I'\n",
      "  df = pd.read_csv(\"D:\\Internship 4 week\\Week_1\\project_week2\\crop_yield_50000.csv\")\n"
     ]
    },
    {
     "data": {
      "text/html": [
       "<div>\n",
       "<style scoped>\n",
       "    .dataframe tbody tr th:only-of-type {\n",
       "        vertical-align: middle;\n",
       "    }\n",
       "\n",
       "    .dataframe tbody tr th {\n",
       "        vertical-align: top;\n",
       "    }\n",
       "\n",
       "    .dataframe thead th {\n",
       "        text-align: right;\n",
       "    }\n",
       "</style>\n",
       "<table border=\"1\" class=\"dataframe\">\n",
       "  <thead>\n",
       "    <tr style=\"text-align: right;\">\n",
       "      <th></th>\n",
       "      <th>Region</th>\n",
       "      <th>Soil_Type</th>\n",
       "      <th>Crop</th>\n",
       "      <th>Rainfall_mm</th>\n",
       "      <th>Temperature_Celsius</th>\n",
       "      <th>Fertilizer_Used</th>\n",
       "      <th>Irrigation_Used</th>\n",
       "      <th>Weather_Condition</th>\n",
       "      <th>Days_to_Harvest</th>\n",
       "      <th>Yield_tons_per_hectare</th>\n",
       "    </tr>\n",
       "  </thead>\n",
       "  <tbody>\n",
       "    <tr>\n",
       "      <th>0</th>\n",
       "      <td>North</td>\n",
       "      <td>Loam</td>\n",
       "      <td>Maize</td>\n",
       "      <td>269.628359</td>\n",
       "      <td>33.568049</td>\n",
       "      <td>True</td>\n",
       "      <td>True</td>\n",
       "      <td>Sunny</td>\n",
       "      <td>100.778743</td>\n",
       "      <td>5.015345</td>\n",
       "    </tr>\n",
       "    <tr>\n",
       "      <th>1</th>\n",
       "      <td>South</td>\n",
       "      <td>Silt</td>\n",
       "      <td>Barley</td>\n",
       "      <td>277.096946</td>\n",
       "      <td>31.503174</td>\n",
       "      <td>False</td>\n",
       "      <td>True</td>\n",
       "      <td>Rainy</td>\n",
       "      <td>90.869031</td>\n",
       "      <td>2.850527</td>\n",
       "    </tr>\n",
       "    <tr>\n",
       "      <th>2</th>\n",
       "      <td>South</td>\n",
       "      <td>Chalky</td>\n",
       "      <td>Maize</td>\n",
       "      <td>872.538244</td>\n",
       "      <td>34.665578</td>\n",
       "      <td>False</td>\n",
       "      <td>False</td>\n",
       "      <td>Sunny</td>\n",
       "      <td>84.610447</td>\n",
       "      <td>5.698175</td>\n",
       "    </tr>\n",
       "    <tr>\n",
       "      <th>3</th>\n",
       "      <td>North</td>\n",
       "      <td>Loam</td>\n",
       "      <td>Wheat</td>\n",
       "      <td>475.905625</td>\n",
       "      <td>28.462172</td>\n",
       "      <td>False</td>\n",
       "      <td>True</td>\n",
       "      <td>Sunny</td>\n",
       "      <td>97.719303</td>\n",
       "      <td>3.840846</td>\n",
       "    </tr>\n",
       "    <tr>\n",
       "      <th>4</th>\n",
       "      <td>North</td>\n",
       "      <td>Clay</td>\n",
       "      <td>Rice</td>\n",
       "      <td>381.067981</td>\n",
       "      <td>19.256107</td>\n",
       "      <td>True</td>\n",
       "      <td>False</td>\n",
       "      <td>Cloudy</td>\n",
       "      <td>68.468178</td>\n",
       "      <td>3.166763</td>\n",
       "    </tr>\n",
       "  </tbody>\n",
       "</table>\n",
       "</div>"
      ],
      "text/plain": [
       "  Region Soil_Type    Crop  Rainfall_mm  Temperature_Celsius  Fertilizer_Used  \\\n",
       "0  North      Loam   Maize   269.628359            33.568049             True   \n",
       "1  South      Silt  Barley   277.096946            31.503174            False   \n",
       "2  South    Chalky   Maize   872.538244            34.665578            False   \n",
       "3  North      Loam   Wheat   475.905625            28.462172            False   \n",
       "4  North      Clay    Rice   381.067981            19.256107             True   \n",
       "\n",
       "   Irrigation_Used Weather_Condition  Days_to_Harvest  Yield_tons_per_hectare  \n",
       "0             True             Sunny       100.778743                5.015345  \n",
       "1             True             Rainy        90.869031                2.850527  \n",
       "2            False             Sunny        84.610447                5.698175  \n",
       "3             True             Sunny        97.719303                3.840846  \n",
       "4            False            Cloudy        68.468178                3.166763  "
      ]
     },
     "execution_count": 2,
     "metadata": {},
     "output_type": "execute_result"
    }
   ],
   "source": [
    "df = pd.read_csv(\"D:\\Internship 4 week\\Week_1\\project_week2\\crop_yield_50000.csv\")\n",
    "print(\"Dataset Shape:\", df.shape)\n",
    "df.head()"
   ]
  },
  {
   "cell_type": "code",
   "execution_count": 3,
   "id": "e55ea5e4",
   "metadata": {},
   "outputs": [],
   "source": [
    "cat_cols = [\"Region\", \"Soil_Type\", \"Weather_Condition\", \"Crop\"]\n",
    "encoders = {}\n",
    "for col in cat_cols:\n",
    "\tenc = LabelEncoder()\n",
    "\tdf[col] = enc.fit_transform(df[col])\n",
    "\tencoders[col] = enc"
   ]
  },
  {
   "cell_type": "code",
   "execution_count": 4,
   "id": "3934f908",
   "metadata": {},
   "outputs": [],
   "source": [
    "\n",
    "X = df.drop(\"Crop\", axis=1)\n",
    "y = df[\"Crop\"]"
   ]
  },
  {
   "cell_type": "code",
   "execution_count": 5,
   "id": "e544cf05",
   "metadata": {},
   "outputs": [
    {
     "name": "stdout",
     "output_type": "stream",
     "text": [
      "\n",
      "✅ Accuracy: 0.3652\n",
      "\n",
      "Classification Report:\n",
      "               precision    recall  f1-score   support\n",
      "\n",
      "           0       0.39      0.42      0.41      1666\n",
      "           1       0.38      0.40      0.39      1668\n",
      "           2       0.39      0.41      0.40      1701\n",
      "           3       0.39      0.39      0.39      1662\n",
      "           4       0.39      0.38      0.39      1658\n",
      "           5       0.22      0.18      0.20      1645\n",
      "\n",
      "    accuracy                           0.37     10000\n",
      "   macro avg       0.36      0.36      0.36     10000\n",
      "weighted avg       0.36      0.37      0.36     10000\n",
      "\n"
     ]
    }
   ],
   "source": [
    "scaler = StandardScaler()\n",
    "X_scaled = scaler.fit_transform(X)\n",
    "\n",
    "\n",
    "X_train, X_test, y_train, y_test = train_test_split(X_scaled, y, test_size=0.2, random_state=42, stratify=y)\n",
    "\n",
    "rf = RandomForestClassifier(n_estimators=100, random_state=42)\n",
    "rf.fit(X_train, y_train)\n",
    "\n",
    "y_pred = rf.predict(X_test)\n",
    "accuracy = accuracy_score(y_test, y_pred)\n",
    "print(\"\\n✅ Accuracy:\", accuracy)\n",
    "print(\"\\nClassification Report:\\n\", classification_report(y_test, y_pred))"
   ]
  },
  {
   "cell_type": "code",
   "execution_count": 6,
   "id": "b33004b0",
   "metadata": {},
   "outputs": [
    {
     "data": {
      "image/png": "[encoded data removed]",
      "text/plain": [
       "<Figure size 800x600 with 2 Axes>"
      ]
     },
     "metadata": {},
     "output_type": "display_data"
    }
   ],
   "source": [
    "cm = confusion_matrix(y_test, y_pred)\n",
    "plt.figure(figsize=(8,6))\n",
    "plt.imshow(cm, interpolation='nearest')\n",
    "plt.title(\"Confusion Matrix\")\n",
    "plt.colorbar()\n",
    "plt.xlabel(\"Predicted\")\n",
    "plt.ylabel(\"Actual\")\n",
    "plt.show()"
   ]
  },
  {
   "cell_type": "code",
   "execution_count": null,
   "id": "78e8171d",
   "metadata": {},
   "outputs": [],
   "source": []
  }
 ],
 "metadata": {
  "kernelspec": {
   "display_name": "Python 3",
   "language": "python",
   "name": "python3"
  },
  "language_info": {
   "codemirror_mode": {
    "name": "ipython",
    "version": 3
   },
   "file_extension": ".py",
   "mimetype": "text/x-python",
   "name": "python",
   "nbconvert_exporter": "python",
   "pygments_lexer": "ipython3",
   "version": "3.13.3"
  }
 },
 "nbformat": 4,
 "nbformat_minor": 5
}
